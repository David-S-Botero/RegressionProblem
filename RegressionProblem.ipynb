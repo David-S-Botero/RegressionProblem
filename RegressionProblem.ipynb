{
  "nbformat": 4,
  "nbformat_minor": 0,
  "metadata": {
    "colab": {
      "provenance": [],
      "gpuType": "T4",
      "authorship_tag": "ABX9TyOjbXZIfl+7aUy7n31+07Ai",
      "include_colab_link": true
    },
    "kernelspec": {
      "name": "python3",
      "display_name": "Python 3"
    },
    "language_info": {
      "name": "python"
    },
    "accelerator": "GPU"
  },
  "cells": [
    {
      "cell_type": "markdown",
      "metadata": {
        "id": "view-in-github",
        "colab_type": "text"
      },
      "source": [
        "<a href=\"https://colab.research.google.com/github/David-S-Botero/RegressionProblem/blob/main/RegressionProblem.ipynb\" target=\"_parent\"><img src=\"https://colab.research.google.com/assets/colab-badge.svg\" alt=\"Open In Colab\"/></a>"
      ]
    },
    {
      "cell_type": "code",
      "execution_count": 1,
      "metadata": {
        "id": "E0L5fHpEK3X8"
      },
      "outputs": [],
      "source": [
        "import pandas as pd\n",
        "import numpy as np\n",
        "from keras.datasets import boston_housing\n",
        "from keras import layers, models, optimizers, regularizers\n",
        "import matplotlib.pyplot as plt\n"
      ]
    },
    {
      "cell_type": "code",
      "source": [
        "(train_data, train_labels), (test_data, test_labels) = boston_housing.load_data()"
      ],
      "metadata": {
        "colab": {
          "base_uri": "https://localhost:8080/"
        },
        "id": "VjLqN7oJLH8m",
        "outputId": "e3481a1f-9c63-4f09-b67c-928a5c3a9787"
      },
      "execution_count": 2,
      "outputs": [
        {
          "output_type": "stream",
          "name": "stdout",
          "text": [
            "Downloading data from https://storage.googleapis.com/tensorflow/tf-keras-datasets/boston_housing.npz\n",
            "57026/57026 [==============================] - 0s 0us/step\n"
          ]
        }
      ]
    },
    {
      "cell_type": "code",
      "source": [
        "train_data.shape\n"
      ],
      "metadata": {
        "colab": {
          "base_uri": "https://localhost:8080/"
        },
        "id": "7WgI1sk1LVb5",
        "outputId": "43bc80c5-b847-485f-adb2-a0d602647ed8"
      },
      "execution_count": 3,
      "outputs": [
        {
          "output_type": "execute_result",
          "data": {
            "text/plain": [
              "(404, 13)"
            ]
          },
          "metadata": {},
          "execution_count": 3
        }
      ]
    },
    {
      "cell_type": "code",
      "source": [
        "train_labels[0]"
      ],
      "metadata": {
        "colab": {
          "base_uri": "https://localhost:8080/"
        },
        "id": "iojQAuFHLa-N",
        "outputId": "19522344-fcfa-4e52-c061-cb64651cf92f"
      },
      "execution_count": 4,
      "outputs": [
        {
          "output_type": "execute_result",
          "data": {
            "text/plain": [
              "15.2"
            ]
          },
          "metadata": {},
          "execution_count": 4
        }
      ]
    },
    {
      "cell_type": "code",
      "source": [
        "train_data = (train_data - train_data.mean(axis=0))/train_data.std(axis=0)\n",
        "train_data\n",
        "\n",
        "test_data = (test_data-train_data.mean(axis=0))/train_data.std(axis=0)"
      ],
      "metadata": {
        "id": "pp0XmKT_Ng82"
      },
      "execution_count": 5,
      "outputs": []
    },
    {
      "cell_type": "code",
      "source": [
        "def build_regression_model(lr_var, input_data):\n",
        "  model = models.Sequential()  \n",
        "  model.add(layers.Dense(32, activation=layers.LeakyReLU(alpha=0.01), input_shape=(input_data,), kernel_regularizer=regularizers.l1_l2(0.01)))\n",
        "  model.add(layers.Dropout(0.25))\n",
        "  model.add(layers.Dense(32,activation=layers.LeakyReLU(alpha=0.01), kernel_regularizer=regularizers.l1(0.01)))\n",
        "  model.add(layers.Dropout(0.25))\n",
        "  model.add(layers.Dense(1))\n",
        "  model.compile(optimizer=optimizers.RMSprop(learning_rate=lr_var), loss='mse', metrics=['mae'])\n",
        "  return model"
      ],
      "metadata": {
        "id": "GX4K0qcVNpAc"
      },
      "execution_count": 50,
      "outputs": []
    },
    {
      "cell_type": "markdown",
      "source": [
        "### K-Fold Validation"
      ],
      "metadata": {
        "id": "t0giXDx9Wxd-"
      }
    },
    {
      "cell_type": "code",
      "source": [
        "# K-fold validation\n",
        "k = 4 #num of split\n",
        "num_val_samples = len(train_data)//k\n",
        "num_epoch = 200\n",
        "all_history = []"
      ],
      "metadata": {
        "id": "OzyFlLi1QeoF"
      },
      "execution_count": 51,
      "outputs": []
    },
    {
      "cell_type": "code",
      "source": [
        "for i in range(k):\n",
        "  print(f'Fold: {i}')\n",
        "  val_data = train_data[i*num_val_samples:(i+1)*num_val_samples]\n",
        "  val_target = train_labels[i*num_val_samples:(i+1)*num_val_samples]\n",
        "\n",
        "  partial_train_data = np.concatenate(\n",
        "      [train_data[:i*num_val_samples],train_data[(i+1)*num_val_samples:]]\n",
        "      , axis=0\n",
        "  )\n",
        "  partial_train_target = np.concatenate(\n",
        "      [train_labels[:i*num_val_samples],train_labels[(i+1)*num_val_samples:]]\n",
        "      , axis=0\n",
        "  )\n",
        "  model = build_regression_model(0.001,13)\n",
        "  history = model.fit(partial_train_data, partial_train_target, epochs = num_epoch, batch_size=16, validation_data=(val_data, val_target), verbose=0)\n",
        "  all_history.append(history.history['val_mae'])"
      ],
      "metadata": {
        "colab": {
          "base_uri": "https://localhost:8080/"
        },
        "id": "B_rgOdpaUvWd",
        "outputId": "d805f60c-7243-48d1-de49-6e1b3c65e49d"
      },
      "execution_count": 52,
      "outputs": [
        {
          "output_type": "stream",
          "name": "stdout",
          "text": [
            "Fold: 0\n",
            "Fold: 1\n",
            "Fold: 2\n",
            "Fold: 3\n"
          ]
        }
      ]
    },
    {
      "cell_type": "code",
      "source": [
        "all_mae_avg = pd.DataFrame(all_history).mean(axis=0)\n",
        "all_mae_avg"
      ],
      "metadata": {
        "colab": {
          "base_uri": "https://localhost:8080/"
        },
        "id": "I9duMTM8XrW7",
        "outputId": "ac33ec70-069e-474c-aadd-f6ddba3b95fd"
      },
      "execution_count": 53,
      "outputs": [
        {
          "output_type": "execute_result",
          "data": {
            "text/plain": [
              "0      20.749826\n",
              "1      19.457028\n",
              "2      17.854383\n",
              "3      15.955698\n",
              "4      13.791898\n",
              "         ...    \n",
              "195     2.368327\n",
              "196     2.366959\n",
              "197     2.350674\n",
              "198     2.428354\n",
              "199     2.343733\n",
              "Length: 200, dtype: float64"
            ]
          },
          "metadata": {},
          "execution_count": 53
        }
      ]
    },
    {
      "cell_type": "code",
      "source": [
        "plt.plot(range(1,len(all_mae_avg[15:])+1), all_mae_avg[15:])"
      ],
      "metadata": {
        "colab": {
          "base_uri": "https://localhost:8080/",
          "height": 447
        },
        "id": "x46gjVsspYXp",
        "outputId": "09d8faf7-0e8b-4f48-c209-b287a920960e"
      },
      "execution_count": 54,
      "outputs": [
        {
          "output_type": "execute_result",
          "data": {
            "text/plain": [
              "[<matplotlib.lines.Line2D at 0x7f9620366260>]"
            ]
          },
          "metadata": {},
          "execution_count": 54
        },
        {
          "output_type": "display_data",
          "data": {
            "text/plain": [
              "<Figure size 640x480 with 1 Axes>"
            ],
            "image/png": "[encoded data removed]"
          },
          "metadata": {}
        }
      ]
    },
    {
      "cell_type": "code",
      "source": [
        "pd.DataFrame(all_history).mean(axis =0)"
      ],
      "metadata": {
        "colab": {
          "base_uri": "https://localhost:8080/"
        },
        "id": "caQfa22jsVQ5",
        "outputId": "6da8ff64-6246-489c-c3a3-e3a6d6ad1444"
      },
      "execution_count": 55,
      "outputs": [
        {
          "output_type": "execute_result",
          "data": {
            "text/plain": [
              "0      20.749826\n",
              "1      19.457028\n",
              "2      17.854383\n",
              "3      15.955698\n",
              "4      13.791898\n",
              "         ...    \n",
              "195     2.368327\n",
              "196     2.366959\n",
              "197     2.350674\n",
              "198     2.428354\n",
              "199     2.343733\n",
              "Length: 200, dtype: float64"
            ]
          },
          "metadata": {},
          "execution_count": 55
        }
      ]
    },
    {
      "cell_type": "code",
      "source": [
        "model.evaluate(test_data, test_labels)"
      ],
      "metadata": {
        "colab": {
          "base_uri": "https://localhost:8080/"
        },
        "id": "cc3jk77vsQFS",
        "outputId": "86e5eb90-a312-4a37-e23f-e5f7309a6898"
      },
      "execution_count": 56,
      "outputs": [
        {
          "output_type": "stream",
          "name": "stdout",
          "text": [
            "4/4 [==============================] - 0s 4ms/step - loss: 1429305.2500 - mae: 1167.5188\n"
          ]
        },
        {
          "output_type": "execute_result",
          "data": {
            "text/plain": [
              "[1429305.25, 1167.518798828125]"
            ]
          },
          "metadata": {},
          "execution_count": 56
        }
      ]
    }
  ]
}